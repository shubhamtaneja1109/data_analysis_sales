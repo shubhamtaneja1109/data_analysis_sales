{
 "cells": [
  {
   "cell_type": "code",
   "execution_count": 5,
   "id": "b46dbaf0",
   "metadata": {},
   "outputs": [],
   "source": [
    "import pandas as pd\n",
    "import matplotlib.pyplot as plt\n",
    "%matplotlib inline\n",
    "import seaborn as sb"
   ]
  },
  {
   "cell_type": "code",
   "execution_count": 6,
   "id": "4b80be6f",
   "metadata": {},
   "outputs": [
    {
     "name": "stdout",
     "output_type": "stream",
     "text": [
      "              order_id order_date  ship_date       ship_mode  \\\n",
      "0         AG-2011-2040 2011-01-01 2011-01-06  Standard Class   \n",
      "1        IN-2011-47883 2011-01-01 2011-01-08  Standard Class   \n",
      "2         HU-2011-1220 2011-01-01 2011-01-05    Second Class   \n",
      "3      IT-2011-3647632 2011-01-01 2011-01-05    Second Class   \n",
      "4        IN-2011-47883 2011-01-01 2011-01-08  Standard Class   \n",
      "...                ...        ...        ...             ...   \n",
      "51285   CA-2014-115427 2014-12-31 2015-01-04  Standard Class   \n",
      "51286     MO-2014-2560 2014-12-31 2015-01-05  Standard Class   \n",
      "51287   MX-2014-110527 2014-12-31 2015-01-02    Second Class   \n",
      "51288   MX-2014-114783 2014-12-31 2015-01-06  Standard Class   \n",
      "51289   CA-2014-156720 2014-12-31 2015-01-04  Standard Class   \n",
      "\n",
      "          customer_name      segment             state        country  market  \\\n",
      "0       Toby Braunhardt     Consumer       Constantine        Algeria  Africa   \n",
      "1           Joseph Holt     Consumer   New South Wales      Australia    APAC   \n",
      "2         Annie Thurman     Consumer          Budapest        Hungary    EMEA   \n",
      "3          Eugene Moren  Home Office         Stockholm         Sweden      EU   \n",
      "4           Joseph Holt     Consumer   New South Wales      Australia    APAC   \n",
      "...                 ...          ...               ...            ...     ...   \n",
      "51285        Erica Bern    Corporate        California  United States      US   \n",
      "51286         Liz Preis     Consumer  Souss-Massa-Draâ        Morocco  Africa   \n",
      "51287  Charlotte Melton     Consumer           Managua      Nicaragua   LATAM   \n",
      "51288     Tamara Dahlen     Consumer         Chihuahua         Mexico   LATAM   \n",
      "51289     Jill Matthias     Consumer          Colorado  United States      US   \n",
      "\n",
      "        region  ...         category sub_category  \\\n",
      "0       Africa  ...  Office Supplies      Storage   \n",
      "1      Oceania  ...  Office Supplies     Supplies   \n",
      "2         EMEA  ...  Office Supplies      Storage   \n",
      "3        North  ...  Office Supplies        Paper   \n",
      "4      Oceania  ...        Furniture  Furnishings   \n",
      "...        ...  ...              ...          ...   \n",
      "51285     West  ...  Office Supplies      Binders   \n",
      "51286   Africa  ...  Office Supplies      Binders   \n",
      "51287  Central  ...  Office Supplies       Labels   \n",
      "51288    North  ...  Office Supplies       Labels   \n",
      "51289     West  ...  Office Supplies    Fasteners   \n",
      "\n",
      "                                          product_name    sales  quantity  \\\n",
      "0                                  Tenex Lockers, Blue  408.300         2   \n",
      "1                             Acme Trimmer, High Speed  120.366         3   \n",
      "2                              Tenex Box, Single Width   66.120         4   \n",
      "3                          Enermax Note Cards, Premium   44.865         3   \n",
      "4                           Eldon Light Bulb, Duo Pack  113.670         5   \n",
      "...                                                ...      ...       ...   \n",
      "51285  Cardinal Slant-D Ring Binder, Heavy Gauge Vinyl   13.904         2   \n",
      "51286          Wilson Jones Hole Reinforcements, Clear    3.990         1   \n",
      "51287           Hon Color Coded Labels, 5000 Label Set   26.400         3   \n",
      "51288           Hon Legal Exhibit Labels, Alphabetical    7.120         1   \n",
      "51289                              Bagged Rubber Bands    3.024         3   \n",
      "\n",
      "       discount    profit  shipping_cost  order_priority  year  \n",
      "0           0.0  106.1400         35.460          Medium  2011  \n",
      "1           0.1   36.0360          9.720          Medium  2011  \n",
      "2           0.0   29.6400          8.170            High  2011  \n",
      "3           0.5  -26.0550          4.820            High  2011  \n",
      "4           0.1   37.7700          4.700          Medium  2011  \n",
      "...         ...       ...            ...             ...   ...  \n",
      "51285       0.2    4.5188          0.890          Medium  2014  \n",
      "51286       0.0    0.4200          0.490          Medium  2014  \n",
      "51287       0.0   12.3600          0.350          Medium  2014  \n",
      "51288       0.0    0.5600          0.199          Medium  2014  \n",
      "51289       0.2   -0.6048          0.170          Medium  2014  \n",
      "\n",
      "[51290 rows x 21 columns]\n"
     ]
    }
   ],
   "source": [
    "df = pd.read_excel(r'C:\\Users\\Sugandha\\Downloads\\Sales-Analysis-master\\superstore_sales.xlsx')\n",
    "print(df)"
   ]
  },
  {
   "cell_type": "code",
   "execution_count": 7,
   "id": "1a0b0e04",
   "metadata": {},
   "outputs": [
    {
     "data": {
      "text/html": [
       "<div>\n",
       "<style scoped>\n",
       "    .dataframe tbody tr th:only-of-type {\n",
       "        vertical-align: middle;\n",
       "    }\n",
       "\n",
       "    .dataframe tbody tr th {\n",
       "        vertical-align: top;\n",
       "    }\n",
       "\n",
       "    .dataframe thead th {\n",
       "        text-align: right;\n",
       "    }\n",
       "</style>\n",
       "<table border=\"1\" class=\"dataframe\">\n",
       "  <thead>\n",
       "    <tr style=\"text-align: right;\">\n",
       "      <th></th>\n",
       "      <th>order_id</th>\n",
       "      <th>order_date</th>\n",
       "      <th>ship_date</th>\n",
       "      <th>ship_mode</th>\n",
       "      <th>customer_name</th>\n",
       "      <th>segment</th>\n",
       "      <th>state</th>\n",
       "      <th>country</th>\n",
       "      <th>market</th>\n",
       "      <th>region</th>\n",
       "      <th>...</th>\n",
       "      <th>category</th>\n",
       "      <th>sub_category</th>\n",
       "      <th>product_name</th>\n",
       "      <th>sales</th>\n",
       "      <th>quantity</th>\n",
       "      <th>discount</th>\n",
       "      <th>profit</th>\n",
       "      <th>shipping_cost</th>\n",
       "      <th>order_priority</th>\n",
       "      <th>year</th>\n",
       "    </tr>\n",
       "  </thead>\n",
       "  <tbody>\n",
       "    <tr>\n",
       "      <th>0</th>\n",
       "      <td>AG-2011-2040</td>\n",
       "      <td>2011-01-01</td>\n",
       "      <td>2011-01-06</td>\n",
       "      <td>Standard Class</td>\n",
       "      <td>Toby Braunhardt</td>\n",
       "      <td>Consumer</td>\n",
       "      <td>Constantine</td>\n",
       "      <td>Algeria</td>\n",
       "      <td>Africa</td>\n",
       "      <td>Africa</td>\n",
       "      <td>...</td>\n",
       "      <td>Office Supplies</td>\n",
       "      <td>Storage</td>\n",
       "      <td>Tenex Lockers, Blue</td>\n",
       "      <td>408.300</td>\n",
       "      <td>2</td>\n",
       "      <td>0.0</td>\n",
       "      <td>106.140</td>\n",
       "      <td>35.46</td>\n",
       "      <td>Medium</td>\n",
       "      <td>2011</td>\n",
       "    </tr>\n",
       "    <tr>\n",
       "      <th>1</th>\n",
       "      <td>IN-2011-47883</td>\n",
       "      <td>2011-01-01</td>\n",
       "      <td>2011-01-08</td>\n",
       "      <td>Standard Class</td>\n",
       "      <td>Joseph Holt</td>\n",
       "      <td>Consumer</td>\n",
       "      <td>New South Wales</td>\n",
       "      <td>Australia</td>\n",
       "      <td>APAC</td>\n",
       "      <td>Oceania</td>\n",
       "      <td>...</td>\n",
       "      <td>Office Supplies</td>\n",
       "      <td>Supplies</td>\n",
       "      <td>Acme Trimmer, High Speed</td>\n",
       "      <td>120.366</td>\n",
       "      <td>3</td>\n",
       "      <td>0.1</td>\n",
       "      <td>36.036</td>\n",
       "      <td>9.72</td>\n",
       "      <td>Medium</td>\n",
       "      <td>2011</td>\n",
       "    </tr>\n",
       "    <tr>\n",
       "      <th>2</th>\n",
       "      <td>HU-2011-1220</td>\n",
       "      <td>2011-01-01</td>\n",
       "      <td>2011-01-05</td>\n",
       "      <td>Second Class</td>\n",
       "      <td>Annie Thurman</td>\n",
       "      <td>Consumer</td>\n",
       "      <td>Budapest</td>\n",
       "      <td>Hungary</td>\n",
       "      <td>EMEA</td>\n",
       "      <td>EMEA</td>\n",
       "      <td>...</td>\n",
       "      <td>Office Supplies</td>\n",
       "      <td>Storage</td>\n",
       "      <td>Tenex Box, Single Width</td>\n",
       "      <td>66.120</td>\n",
       "      <td>4</td>\n",
       "      <td>0.0</td>\n",
       "      <td>29.640</td>\n",
       "      <td>8.17</td>\n",
       "      <td>High</td>\n",
       "      <td>2011</td>\n",
       "    </tr>\n",
       "    <tr>\n",
       "      <th>3</th>\n",
       "      <td>IT-2011-3647632</td>\n",
       "      <td>2011-01-01</td>\n",
       "      <td>2011-01-05</td>\n",
       "      <td>Second Class</td>\n",
       "      <td>Eugene Moren</td>\n",
       "      <td>Home Office</td>\n",
       "      <td>Stockholm</td>\n",
       "      <td>Sweden</td>\n",
       "      <td>EU</td>\n",
       "      <td>North</td>\n",
       "      <td>...</td>\n",
       "      <td>Office Supplies</td>\n",
       "      <td>Paper</td>\n",
       "      <td>Enermax Note Cards, Premium</td>\n",
       "      <td>44.865</td>\n",
       "      <td>3</td>\n",
       "      <td>0.5</td>\n",
       "      <td>-26.055</td>\n",
       "      <td>4.82</td>\n",
       "      <td>High</td>\n",
       "      <td>2011</td>\n",
       "    </tr>\n",
       "    <tr>\n",
       "      <th>4</th>\n",
       "      <td>IN-2011-47883</td>\n",
       "      <td>2011-01-01</td>\n",
       "      <td>2011-01-08</td>\n",
       "      <td>Standard Class</td>\n",
       "      <td>Joseph Holt</td>\n",
       "      <td>Consumer</td>\n",
       "      <td>New South Wales</td>\n",
       "      <td>Australia</td>\n",
       "      <td>APAC</td>\n",
       "      <td>Oceania</td>\n",
       "      <td>...</td>\n",
       "      <td>Furniture</td>\n",
       "      <td>Furnishings</td>\n",
       "      <td>Eldon Light Bulb, Duo Pack</td>\n",
       "      <td>113.670</td>\n",
       "      <td>5</td>\n",
       "      <td>0.1</td>\n",
       "      <td>37.770</td>\n",
       "      <td>4.70</td>\n",
       "      <td>Medium</td>\n",
       "      <td>2011</td>\n",
       "    </tr>\n",
       "  </tbody>\n",
       "</table>\n",
       "<p>5 rows × 21 columns</p>\n",
       "</div>"
      ],
      "text/plain": [
       "          order_id order_date  ship_date       ship_mode    customer_name  \\\n",
       "0     AG-2011-2040 2011-01-01 2011-01-06  Standard Class  Toby Braunhardt   \n",
       "1    IN-2011-47883 2011-01-01 2011-01-08  Standard Class      Joseph Holt   \n",
       "2     HU-2011-1220 2011-01-01 2011-01-05    Second Class    Annie Thurman   \n",
       "3  IT-2011-3647632 2011-01-01 2011-01-05    Second Class     Eugene Moren   \n",
       "4    IN-2011-47883 2011-01-01 2011-01-08  Standard Class      Joseph Holt   \n",
       "\n",
       "       segment            state    country  market   region  ...  \\\n",
       "0     Consumer      Constantine    Algeria  Africa   Africa  ...   \n",
       "1     Consumer  New South Wales  Australia    APAC  Oceania  ...   \n",
       "2     Consumer         Budapest    Hungary    EMEA     EMEA  ...   \n",
       "3  Home Office        Stockholm     Sweden      EU    North  ...   \n",
       "4     Consumer  New South Wales  Australia    APAC  Oceania  ...   \n",
       "\n",
       "          category sub_category                 product_name    sales  \\\n",
       "0  Office Supplies      Storage          Tenex Lockers, Blue  408.300   \n",
       "1  Office Supplies     Supplies     Acme Trimmer, High Speed  120.366   \n",
       "2  Office Supplies      Storage      Tenex Box, Single Width   66.120   \n",
       "3  Office Supplies        Paper  Enermax Note Cards, Premium   44.865   \n",
       "4        Furniture  Furnishings   Eldon Light Bulb, Duo Pack  113.670   \n",
       "\n",
       "   quantity  discount   profit  shipping_cost  order_priority  year  \n",
       "0         2       0.0  106.140          35.46          Medium  2011  \n",
       "1         3       0.1   36.036           9.72          Medium  2011  \n",
       "2         4       0.0   29.640           8.17            High  2011  \n",
       "3         3       0.5  -26.055           4.82            High  2011  \n",
       "4         5       0.1   37.770           4.70          Medium  2011  \n",
       "\n",
       "[5 rows x 21 columns]"
      ]
     },
     "execution_count": 7,
     "metadata": {},
     "output_type": "execute_result"
    }
   ],
   "source": [
    "df.head()"
   ]
  },
  {
   "cell_type": "code",
   "execution_count": 9,
   "id": "d398ae12",
   "metadata": {},
   "outputs": [
    {
     "data": {
      "text/plain": [
       "(51290, 21)"
      ]
     },
     "execution_count": 9,
     "metadata": {},
     "output_type": "execute_result"
    }
   ],
   "source": [
    "df.shape"
   ]
  },
  {
   "cell_type": "code",
   "execution_count": 11,
   "id": "36784462",
   "metadata": {},
   "outputs": [
    {
     "name": "stdout",
     "output_type": "stream",
     "text": [
      "<class 'pandas.core.frame.DataFrame'>\n",
      "RangeIndex: 51290 entries, 0 to 51289\n",
      "Data columns (total 21 columns):\n",
      " #   Column          Non-Null Count  Dtype         \n",
      "---  ------          --------------  -----         \n",
      " 0   order_id        51290 non-null  object        \n",
      " 1   order_date      51290 non-null  datetime64[ns]\n",
      " 2   ship_date       51290 non-null  datetime64[ns]\n",
      " 3   ship_mode       51290 non-null  object        \n",
      " 4   customer_name   51290 non-null  object        \n",
      " 5   segment         51290 non-null  object        \n",
      " 6   state           51290 non-null  object        \n",
      " 7   country         51290 non-null  object        \n",
      " 8   market          51290 non-null  object        \n",
      " 9   region          51290 non-null  object        \n",
      " 10  product_id      51290 non-null  object        \n",
      " 11  category        51290 non-null  object        \n",
      " 12  sub_category    51290 non-null  object        \n",
      " 13  product_name    51290 non-null  object        \n",
      " 14  sales           51290 non-null  float64       \n",
      " 15  quantity        51290 non-null  int64         \n",
      " 16  discount        51290 non-null  float64       \n",
      " 17  profit          51290 non-null  float64       \n",
      " 18  shipping_cost   51290 non-null  float64       \n",
      " 19  order_priority  51290 non-null  object        \n",
      " 20  year            51290 non-null  int64         \n",
      "dtypes: datetime64[ns](2), float64(4), int64(2), object(13)\n",
      "memory usage: 8.2+ MB\n"
     ]
    }
   ],
   "source": [
    "df.info()"
   ]
  },
  {
   "cell_type": "code",
   "execution_count": 15,
   "id": "46abbc15",
   "metadata": {},
   "outputs": [
    {
     "data": {
      "text/plain": [
       "order_id          0\n",
       "order_date        0\n",
       "ship_date         0\n",
       "ship_mode         0\n",
       "customer_name     0\n",
       "segment           0\n",
       "state             0\n",
       "country           0\n",
       "market            0\n",
       "region            0\n",
       "product_id        0\n",
       "category          0\n",
       "sub_category      0\n",
       "product_name      0\n",
       "sales             0\n",
       "quantity          0\n",
       "discount          0\n",
       "profit            0\n",
       "shipping_cost     0\n",
       "order_priority    0\n",
       "year              0\n",
       "dtype: int64"
      ]
     },
     "execution_count": 15,
     "metadata": {},
     "output_type": "execute_result"
    }
   ],
   "source": [
    "df.isnull().sum()"
   ]
  },
  {
   "cell_type": "code",
   "execution_count": 16,
   "id": "67fe8899",
   "metadata": {},
   "outputs": [
    {
     "data": {
      "text/html": [
       "<div>\n",
       "<style scoped>\n",
       "    .dataframe tbody tr th:only-of-type {\n",
       "        vertical-align: middle;\n",
       "    }\n",
       "\n",
       "    .dataframe tbody tr th {\n",
       "        vertical-align: top;\n",
       "    }\n",
       "\n",
       "    .dataframe thead th {\n",
       "        text-align: right;\n",
       "    }\n",
       "</style>\n",
       "<table border=\"1\" class=\"dataframe\">\n",
       "  <thead>\n",
       "    <tr style=\"text-align: right;\">\n",
       "      <th></th>\n",
       "      <th>sales</th>\n",
       "      <th>quantity</th>\n",
       "      <th>discount</th>\n",
       "      <th>profit</th>\n",
       "      <th>shipping_cost</th>\n",
       "      <th>year</th>\n",
       "    </tr>\n",
       "  </thead>\n",
       "  <tbody>\n",
       "    <tr>\n",
       "      <th>count</th>\n",
       "      <td>51290.000000</td>\n",
       "      <td>51290.000000</td>\n",
       "      <td>51290.000000</td>\n",
       "      <td>51290.000000</td>\n",
       "      <td>51290.000000</td>\n",
       "      <td>51290.000000</td>\n",
       "    </tr>\n",
       "    <tr>\n",
       "      <th>mean</th>\n",
       "      <td>246.490581</td>\n",
       "      <td>3.476545</td>\n",
       "      <td>0.142908</td>\n",
       "      <td>28.641740</td>\n",
       "      <td>26.375818</td>\n",
       "      <td>2012.777208</td>\n",
       "    </tr>\n",
       "    <tr>\n",
       "      <th>std</th>\n",
       "      <td>487.565361</td>\n",
       "      <td>2.278766</td>\n",
       "      <td>0.212280</td>\n",
       "      <td>174.424113</td>\n",
       "      <td>57.296810</td>\n",
       "      <td>1.098931</td>\n",
       "    </tr>\n",
       "    <tr>\n",
       "      <th>min</th>\n",
       "      <td>0.444000</td>\n",
       "      <td>1.000000</td>\n",
       "      <td>0.000000</td>\n",
       "      <td>-6599.978000</td>\n",
       "      <td>0.002000</td>\n",
       "      <td>2011.000000</td>\n",
       "    </tr>\n",
       "    <tr>\n",
       "      <th>25%</th>\n",
       "      <td>30.758625</td>\n",
       "      <td>2.000000</td>\n",
       "      <td>0.000000</td>\n",
       "      <td>0.000000</td>\n",
       "      <td>2.610000</td>\n",
       "      <td>2012.000000</td>\n",
       "    </tr>\n",
       "    <tr>\n",
       "      <th>50%</th>\n",
       "      <td>85.053000</td>\n",
       "      <td>3.000000</td>\n",
       "      <td>0.000000</td>\n",
       "      <td>9.240000</td>\n",
       "      <td>7.790000</td>\n",
       "      <td>2013.000000</td>\n",
       "    </tr>\n",
       "    <tr>\n",
       "      <th>75%</th>\n",
       "      <td>251.053200</td>\n",
       "      <td>5.000000</td>\n",
       "      <td>0.200000</td>\n",
       "      <td>36.810000</td>\n",
       "      <td>24.450000</td>\n",
       "      <td>2014.000000</td>\n",
       "    </tr>\n",
       "    <tr>\n",
       "      <th>max</th>\n",
       "      <td>22638.480000</td>\n",
       "      <td>14.000000</td>\n",
       "      <td>0.850000</td>\n",
       "      <td>8399.976000</td>\n",
       "      <td>933.570000</td>\n",
       "      <td>2014.000000</td>\n",
       "    </tr>\n",
       "  </tbody>\n",
       "</table>\n",
       "</div>"
      ],
      "text/plain": [
       "              sales      quantity      discount        profit  shipping_cost  \\\n",
       "count  51290.000000  51290.000000  51290.000000  51290.000000   51290.000000   \n",
       "mean     246.490581      3.476545      0.142908     28.641740      26.375818   \n",
       "std      487.565361      2.278766      0.212280    174.424113      57.296810   \n",
       "min        0.444000      1.000000      0.000000  -6599.978000       0.002000   \n",
       "25%       30.758625      2.000000      0.000000      0.000000       2.610000   \n",
       "50%       85.053000      3.000000      0.000000      9.240000       7.790000   \n",
       "75%      251.053200      5.000000      0.200000     36.810000      24.450000   \n",
       "max    22638.480000     14.000000      0.850000   8399.976000     933.570000   \n",
       "\n",
       "               year  \n",
       "count  51290.000000  \n",
       "mean    2012.777208  \n",
       "std        1.098931  \n",
       "min     2011.000000  \n",
       "25%     2012.000000  \n",
       "50%     2013.000000  \n",
       "75%     2014.000000  \n",
       "max     2014.000000  "
      ]
     },
     "execution_count": 16,
     "metadata": {},
     "output_type": "execute_result"
    }
   ],
   "source": [
    "df.describe()"
   ]
  },
  {
   "cell_type": "code",
   "execution_count": 19,
   "id": "58ebe345",
   "metadata": {},
   "outputs": [
    {
     "ename": "SyntaxError",
     "evalue": "invalid syntax (4244981957.py, line 1)",
     "output_type": "error",
     "traceback": [
      "\u001b[1;36m  Cell \u001b[1;32mIn [19], line 1\u001b[1;36m\u001b[0m\n\u001b[1;33m    <H4> what is the overall sales\u001b[0m\n\u001b[1;37m    ^\u001b[0m\n\u001b[1;31mSyntaxError\u001b[0m\u001b[1;31m:\u001b[0m invalid syntax\n"
     ]
    }
   ],
   "source": [
    "<H4> what is the overall sales"
   ]
  },
  {
   "cell_type": "code",
   "execution_count": 21,
   "id": "29585805",
   "metadata": {},
   "outputs": [
    {
     "data": {
      "text/plain": [
       "Timestamp('2011-01-01 00:00:00')"
      ]
     },
     "execution_count": 21,
     "metadata": {},
     "output_type": "execute_result"
    }
   ],
   "source": [
    "df['order_date'].min()"
   ]
  },
  {
   "cell_type": "code",
   "execution_count": 22,
   "id": "9b9d4e59",
   "metadata": {},
   "outputs": [
    {
     "data": {
      "text/plain": [
       "Timestamp('2014-12-31 00:00:00')"
      ]
     },
     "execution_count": 22,
     "metadata": {},
     "output_type": "execute_result"
    }
   ],
   "source": [
    "df['order_date'].max()"
   ]
  },
  {
   "cell_type": "code",
   "execution_count": 24,
   "id": "a71082ef",
   "metadata": {},
   "outputs": [],
   "source": [
    "df['month_year'] = df['order_date'].apply(lambda x: x.strftime('%Y-%m'))"
   ]
  },
  {
   "cell_type": "code",
   "execution_count": 25,
   "id": "d3190daa",
   "metadata": {},
   "outputs": [
    {
     "data": {
      "text/plain": [
       "0        2011-01\n",
       "1        2011-01\n",
       "2        2011-01\n",
       "3        2011-01\n",
       "4        2011-01\n",
       "          ...   \n",
       "51285    2014-12\n",
       "51286    2014-12\n",
       "51287    2014-12\n",
       "51288    2014-12\n",
       "51289    2014-12\n",
       "Name: month_year, Length: 51290, dtype: object"
      ]
     },
     "execution_count": 25,
     "metadata": {},
     "output_type": "execute_result"
    }
   ],
   "source": [
    "df['month_year']"
   ]
  },
  {
   "cell_type": "code",
   "execution_count": 28,
   "id": "68fd69f9",
   "metadata": {},
   "outputs": [
    {
     "name": "stderr",
     "output_type": "stream",
     "text": [
      "C:\\Users\\Sugandha\\AppData\\Local\\Temp\\ipykernel_2848\\3674664025.py:1: FutureWarning: The default value of numeric_only in DataFrameGroupBy.sum is deprecated. In a future version, numeric_only will default to False. Either specify numeric_only or select only columns which should be valid for the function.\n",
      "  df_trends = df.groupby('month_year').sum()['sales'].reset_index()\n"
     ]
    }
   ],
   "source": [
    "df_trends = df.groupby('month_year').sum()['sales'].reset_index()"
   ]
  },
  {
   "cell_type": "code",
   "execution_count": 36,
   "id": "d99f415b",
   "metadata": {},
   "outputs": [
    {
     "data": {
      "text/plain": [
       "([0,\n",
       "  1,\n",
       "  2,\n",
       "  3,\n",
       "  4,\n",
       "  5,\n",
       "  6,\n",
       "  7,\n",
       "  8,\n",
       "  9,\n",
       "  10,\n",
       "  11,\n",
       "  12,\n",
       "  13,\n",
       "  14,\n",
       "  15,\n",
       "  16,\n",
       "  17,\n",
       "  18,\n",
       "  19,\n",
       "  20,\n",
       "  21,\n",
       "  22,\n",
       "  23,\n",
       "  24,\n",
       "  25,\n",
       "  26,\n",
       "  27,\n",
       "  28,\n",
       "  29,\n",
       "  30,\n",
       "  31,\n",
       "  32,\n",
       "  33,\n",
       "  34,\n",
       "  35,\n",
       "  36,\n",
       "  37,\n",
       "  38,\n",
       "  39,\n",
       "  40,\n",
       "  41,\n",
       "  42,\n",
       "  43,\n",
       "  44,\n",
       "  45,\n",
       "  46,\n",
       "  47],\n",
       " [Text(0, 0, '2011-01'),\n",
       "  Text(1, 0, '2011-02'),\n",
       "  Text(2, 0, '2011-03'),\n",
       "  Text(3, 0, '2011-04'),\n",
       "  Text(4, 0, '2011-05'),\n",
       "  Text(5, 0, '2011-06'),\n",
       "  Text(6, 0, '2011-07'),\n",
       "  Text(7, 0, '2011-08'),\n",
       "  Text(8, 0, '2011-09'),\n",
       "  Text(9, 0, '2011-10'),\n",
       "  Text(10, 0, '2011-11'),\n",
       "  Text(11, 0, '2011-12'),\n",
       "  Text(12, 0, '2012-01'),\n",
       "  Text(13, 0, '2012-02'),\n",
       "  Text(14, 0, '2012-03'),\n",
       "  Text(15, 0, '2012-04'),\n",
       "  Text(16, 0, '2012-05'),\n",
       "  Text(17, 0, '2012-06'),\n",
       "  Text(18, 0, '2012-07'),\n",
       "  Text(19, 0, '2012-08'),\n",
       "  Text(20, 0, '2012-09'),\n",
       "  Text(21, 0, '2012-10'),\n",
       "  Text(22, 0, '2012-11'),\n",
       "  Text(23, 0, '2012-12'),\n",
       "  Text(24, 0, '2013-01'),\n",
       "  Text(25, 0, '2013-02'),\n",
       "  Text(26, 0, '2013-03'),\n",
       "  Text(27, 0, '2013-04'),\n",
       "  Text(28, 0, '2013-05'),\n",
       "  Text(29, 0, '2013-06'),\n",
       "  Text(30, 0, '2013-07'),\n",
       "  Text(31, 0, '2013-08'),\n",
       "  Text(32, 0, '2013-09'),\n",
       "  Text(33, 0, '2013-10'),\n",
       "  Text(34, 0, '2013-11'),\n",
       "  Text(35, 0, '2013-12'),\n",
       "  Text(36, 0, '2014-01'),\n",
       "  Text(37, 0, '2014-02'),\n",
       "  Text(38, 0, '2014-03'),\n",
       "  Text(39, 0, '2014-04'),\n",
       "  Text(40, 0, '2014-05'),\n",
       "  Text(41, 0, '2014-06'),\n",
       "  Text(42, 0, '2014-07'),\n",
       "  Text(43, 0, '2014-08'),\n",
       "  Text(44, 0, '2014-09'),\n",
       "  Text(45, 0, '2014-10'),\n",
       "  Text(46, 0, '2014-11'),\n",
       "  Text(47, 0, '2014-12')])"
      ]
     },
     "execution_count": 36,
     "metadata": {},
     "output_type": "execute_result"
    },
    {
     "data": {
      "image/png": "[encoded data removed]",
      "text/plain": [
       "<Figure size 2000x400 with 1 Axes>"
      ]
     },
     "metadata": {},
     "output_type": "display_data"
    }
   ],
   "source": [
    "plt.figure(figsize=(20,4))\n",
    "plt.plot(df_trends['month_year'], df_trends['sales'])\n",
    "plt.xticks(rotation='vertical', size=9)"
   ]
  },
  {
   "cell_type": "code",
   "execution_count": 53,
   "id": "1c7ac6aa",
   "metadata": {},
   "outputs": [
    {
     "name": "stderr",
     "output_type": "stream",
     "text": [
      "C:\\Users\\Sugandha\\AppData\\Local\\Temp\\ipykernel_2848\\728044199.py:1: FutureWarning: The default value of numeric_only in DataFrameGroupBy.sum is deprecated. In a future version, numeric_only will default to False. Either specify numeric_only or select only columns which should be valid for the function.\n",
      "  prod_sales = pd.DataFrame(df.groupby('product_name').sum()['sales'])\n"
     ]
    }
   ],
   "source": [
    "prod_sales = pd.DataFrame(df.groupby('product_name').sum()['sales'])"
   ]
  },
  {
   "cell_type": "code",
   "execution_count": 55,
   "id": "7530cace",
   "metadata": {},
   "outputs": [],
   "source": [
    "prod_sales = prod_sales.sort_values('sales',ascending=False)"
   ]
  },
  {
   "cell_type": "code",
   "execution_count": 56,
   "id": "864a5c29",
   "metadata": {},
   "outputs": [
    {
     "data": {
      "text/html": [
       "<div>\n",
       "<style scoped>\n",
       "    .dataframe tbody tr th:only-of-type {\n",
       "        vertical-align: middle;\n",
       "    }\n",
       "\n",
       "    .dataframe tbody tr th {\n",
       "        vertical-align: top;\n",
       "    }\n",
       "\n",
       "    .dataframe thead th {\n",
       "        text-align: right;\n",
       "    }\n",
       "</style>\n",
       "<table border=\"1\" class=\"dataframe\">\n",
       "  <thead>\n",
       "    <tr style=\"text-align: right;\">\n",
       "      <th></th>\n",
       "      <th>sales</th>\n",
       "    </tr>\n",
       "    <tr>\n",
       "      <th>product_name</th>\n",
       "      <th></th>\n",
       "    </tr>\n",
       "  </thead>\n",
       "  <tbody>\n",
       "    <tr>\n",
       "      <th>Apple Smart Phone, Full Size</th>\n",
       "      <td>86935.7786</td>\n",
       "    </tr>\n",
       "    <tr>\n",
       "      <th>Cisco Smart Phone, Full Size</th>\n",
       "      <td>76441.5306</td>\n",
       "    </tr>\n",
       "    <tr>\n",
       "      <th>Motorola Smart Phone, Full Size</th>\n",
       "      <td>73156.3030</td>\n",
       "    </tr>\n",
       "    <tr>\n",
       "      <th>Nokia Smart Phone, Full Size</th>\n",
       "      <td>71904.5555</td>\n",
       "    </tr>\n",
       "    <tr>\n",
       "      <th>Canon imageCLASS 2200 Advanced Copier</th>\n",
       "      <td>61599.8240</td>\n",
       "    </tr>\n",
       "    <tr>\n",
       "      <th>Hon Executive Leather Armchair, Adjustable</th>\n",
       "      <td>58193.4841</td>\n",
       "    </tr>\n",
       "    <tr>\n",
       "      <th>Office Star Executive Leather Armchair, Adjustable</th>\n",
       "      <td>50661.6840</td>\n",
       "    </tr>\n",
       "    <tr>\n",
       "      <th>Harbour Creations Executive Leather Armchair, Adjustable</th>\n",
       "      <td>50121.5160</td>\n",
       "    </tr>\n",
       "    <tr>\n",
       "      <th>Samsung Smart Phone, Cordless</th>\n",
       "      <td>48653.4600</td>\n",
       "    </tr>\n",
       "    <tr>\n",
       "      <th>Nokia Smart Phone, with Caller ID</th>\n",
       "      <td>47877.7857</td>\n",
       "    </tr>\n",
       "  </tbody>\n",
       "</table>\n",
       "</div>"
      ],
      "text/plain": [
       "                                                         sales\n",
       "product_name                                                  \n",
       "Apple Smart Phone, Full Size                        86935.7786\n",
       "Cisco Smart Phone, Full Size                        76441.5306\n",
       "Motorola Smart Phone, Full Size                     73156.3030\n",
       "Nokia Smart Phone, Full Size                        71904.5555\n",
       "Canon imageCLASS 2200 Advanced Copier               61599.8240\n",
       "Hon Executive Leather Armchair, Adjustable          58193.4841\n",
       "Office Star Executive Leather Armchair, Adjustable  50661.6840\n",
       "Harbour Creations Executive Leather Armchair, A...  50121.5160\n",
       "Samsung Smart Phone, Cordless                       48653.4600\n",
       "Nokia Smart Phone, with Caller ID                   47877.7857"
      ]
     },
     "execution_count": 56,
     "metadata": {},
     "output_type": "execute_result"
    }
   ],
   "source": [
    "prod_sales[:10]"
   ]
  },
  {
   "cell_type": "code",
   "execution_count": 59,
   "id": "7213c2cd",
   "metadata": {},
   "outputs": [
    {
     "name": "stderr",
     "output_type": "stream",
     "text": [
      "C:\\Users\\Sugandha\\AppData\\Local\\Temp\\ipykernel_2848\\2847601405.py:1: FutureWarning: The default value of numeric_only in DataFrameGroupBy.sum is deprecated. In a future version, numeric_only will default to False. Either specify numeric_only or select only columns which should be valid for the function.\n",
      "  most_selled = pd.DataFrame(df.groupby('product_name').sum()['quantity'])\n"
     ]
    }
   ],
   "source": [
    "most_selled = pd.DataFrame(df.groupby('product_name').sum()['quantity'])"
   ]
  },
  {
   "cell_type": "code",
   "execution_count": 60,
   "id": "dd492ff7",
   "metadata": {},
   "outputs": [
    {
     "data": {
      "text/html": [
       "<div>\n",
       "<style scoped>\n",
       "    .dataframe tbody tr th:only-of-type {\n",
       "        vertical-align: middle;\n",
       "    }\n",
       "\n",
       "    .dataframe tbody tr th {\n",
       "        vertical-align: top;\n",
       "    }\n",
       "\n",
       "    .dataframe thead th {\n",
       "        text-align: right;\n",
       "    }\n",
       "</style>\n",
       "<table border=\"1\" class=\"dataframe\">\n",
       "  <thead>\n",
       "    <tr style=\"text-align: right;\">\n",
       "      <th></th>\n",
       "      <th>quantity</th>\n",
       "    </tr>\n",
       "    <tr>\n",
       "      <th>product_name</th>\n",
       "      <th></th>\n",
       "    </tr>\n",
       "  </thead>\n",
       "  <tbody>\n",
       "    <tr>\n",
       "      <th>Penpower WorldCard Pro Card Scanner</th>\n",
       "      <td>1</td>\n",
       "    </tr>\n",
       "    <tr>\n",
       "      <th>Boston 1900 Electric Pencil Sharpener</th>\n",
       "      <td>1</td>\n",
       "    </tr>\n",
       "    <tr>\n",
       "      <th>Bush Saratoga Collection 5-Shelf Bookcase, Hanover Cherry, *Special Order</th>\n",
       "      <td>1</td>\n",
       "    </tr>\n",
       "    <tr>\n",
       "      <th>Chromcraft Training Table, Adjustable Height</th>\n",
       "      <td>1</td>\n",
       "    </tr>\n",
       "    <tr>\n",
       "      <th>Xerox 20</th>\n",
       "      <td>1</td>\n",
       "    </tr>\n",
       "    <tr>\n",
       "      <th>...</th>\n",
       "      <td>...</td>\n",
       "    </tr>\n",
       "    <tr>\n",
       "      <th>Sanford Pencil Sharpener, Water Color</th>\n",
       "      <td>259</td>\n",
       "    </tr>\n",
       "    <tr>\n",
       "      <th>Rogers File Cart, Single Width</th>\n",
       "      <td>262</td>\n",
       "    </tr>\n",
       "    <tr>\n",
       "      <th>Eldon File Cart, Single Width</th>\n",
       "      <td>321</td>\n",
       "    </tr>\n",
       "    <tr>\n",
       "      <th>Cardinal Index Tab, Clear</th>\n",
       "      <td>337</td>\n",
       "    </tr>\n",
       "    <tr>\n",
       "      <th>Staples</th>\n",
       "      <td>876</td>\n",
       "    </tr>\n",
       "  </tbody>\n",
       "</table>\n",
       "<p>3788 rows × 1 columns</p>\n",
       "</div>"
      ],
      "text/plain": [
       "                                                    quantity\n",
       "product_name                                                \n",
       "Penpower WorldCard Pro Card Scanner                        1\n",
       "Boston 1900 Electric Pencil Sharpener                      1\n",
       "Bush Saratoga Collection 5-Shelf Bookcase, Hano...         1\n",
       "Chromcraft Training Table, Adjustable Height               1\n",
       "Xerox 20                                                   1\n",
       "...                                                      ...\n",
       "Sanford Pencil Sharpener, Water Color                    259\n",
       "Rogers File Cart, Single Width                           262\n",
       "Eldon File Cart, Single Width                            321\n",
       "Cardinal Index Tab, Clear                                337\n",
       "Staples                                                  876\n",
       "\n",
       "[3788 rows x 1 columns]"
      ]
     },
     "execution_count": 60,
     "metadata": {},
     "output_type": "execute_result"
    }
   ],
   "source": [
    "most_selled = most_selled.sort_values('quantity', ascending = True)"
   ]
  },
  {
   "cell_type": "code",
   "execution_count": 73,
   "id": "2239eb1d",
   "metadata": {},
   "outputs": [
    {
     "data": {
      "text/plain": [
       "<AxesSubplot: ylabel='count'>"
      ]
     },
     "execution_count": 73,
     "metadata": {},
     "output_type": "execute_result"
    },
    {
     "data": {
      "image/png": "[encoded data removed]",
      "text/plain": [
       "<Figure size 640x480 with 1 Axes>"
      ]
     },
     "metadata": {},
     "output_type": "display_data"
    }
   ],
   "source": [
    "sb.countplot(df['shipping_cost'])"
   ]
  },
  {
   "cell_type": "code",
   "execution_count": null,
   "id": "3a34de6f",
   "metadata": {},
   "outputs": [],
   "source": []
  }
 ],
 "metadata": {
  "kernelspec": {
   "display_name": "Python 3 (ipykernel)",
   "language": "python",
   "name": "python3"
  },
  "language_info": {
   "codemirror_mode": {
    "name": "ipython",
    "version": 3
   },
   "file_extension": ".py",
   "mimetype": "text/x-python",
   "name": "python",
   "nbconvert_exporter": "python",
   "pygments_lexer": "ipython3",
   "version": "3.10.4"
  }
 },
 "nbformat": 4,
 "nbformat_minor": 5
}
